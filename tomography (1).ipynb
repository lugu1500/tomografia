{
 "cells": [
  {
   "cell_type": "code",
   "execution_count": 1,
   "id": "3ec85fc6-62ab-470a-a00c-0b1f1a91f50e",
   "metadata": {},
   "outputs": [],
   "source": [
    "from qiskit import QuantumCircuit, QuantumRegister, ClassicalRegister\n",
    "from qiskit.visualization import plot_histogram\n",
    "from qiskit import execute, Aer\n",
    "from matplotlib.pyplot import*\n",
    "import numpy as np\n",
    "import matplotlib.pyplot as plt\n",
    "import qiskit.quantum_info as qi"
   ]
  },
  {
   "cell_type": "code",
   "execution_count": 2,
   "id": "2c228d5d-8b12-4687-86ea-9abdd110052a",
   "metadata": {},
   "outputs": [],
   "source": [
    "# we define the range for the phase difference, such it can take all of the following values:\n",
    "n = 50\n",
    "s = [i * 2 * np.pi / n for i in range(n)]\n",
    "#s"
   ]
  },
  {
   "cell_type": "markdown",
   "id": "0e66b9dc-6567-4ca6-ac9a-06bf1eef5c01",
   "metadata": {},
   "source": [
    "For $U_+ = CR_y(\\theta)$"
   ]
  },
  {
   "cell_type": "markdown",
   "id": "4a5b19ad-0042-4b58-970a-44bde83a8a1d",
   "metadata": {},
   "source": [
    "$\\textbf{sz}$"
   ]
  },
  {
   "cell_type": "code",
   "execution_count": 3,
   "id": "7cbbef34-2950-48a0-b7c0-c1d9477e31db",
   "metadata": {},
   "outputs": [],
   "source": [
    "# we can make plots for different values of theta and fixed values of phi:\n",
    "qasm_simulator = Aer.get_backend('qasm_simulator')\n",
    "#we define empty lists to use them later to store the statistics of measuring values 00, 01, 10, 11 for different values of theta and phi\n",
    "p0 = []\n",
    "p1 = []\n",
    "\n",
    "\n",
    "theta1 = np.pi/4\n",
    "q_c = QuantumRegister(1,'q_{c}')\n",
    "q_p = QuantumRegister(1,'q_{p}')\n",
    "cr = ClassicalRegister(2)\n",
    "\n",
    "for theta in s:\n",
    "    q1 = QuantumCircuit(q_c,q_p,cr)\n",
    "    q1.ry(2*theta1,q_c[0]) # symmetric beam-splitter\n",
    "    q1.cry(theta,q_c[0],q_p[0],ctrl_state = 0) # U operator for polarization\n",
    "    #q1.measure(q_c[0],cr[0])\n",
    "    q1.measure(q_p[0],cr[1])\n",
    "    job = execute([q1 for i in range(20)],qasm_simulator,shots = 1000) #implement the simulation\n",
    "    counts = job.result().get_counts()\n",
    "\n",
    "    temp1 = [] #will store how many 00 values we have for each value of theta\n",
    "    temp2 = [] #will store how many 01 values we have for each value of theta\n",
    "    temp3 = [] #will store how many 10 values we have for each value of theta\n",
    "    temp4 = [] #will store how many 11 values we have for each value of theta\n",
    "\n",
    "    for i in range(20):\n",
    "        temp1.append(counts[i].get('00',0)/1000) #stores how many (relative population) 00 values we have (50 times) for each value of theta \n",
    "        temp2.append(counts[i].get('10',1)/1000) #stores how many (relative population) 01 values we have (50 times) for each value of theta\n",
    "        \n",
    "    p0.append(sum(temp1)/20) # takes the prob of 00 to occur for all the values of theta\n",
    "    p1.append(sum(temp2)/20) # takes the prob of 01 to occur for all the values of theta\n",
    "    #sx.append(sum(temp1)/50-sum(temp2)/50)"
   ]
  },
  {
   "cell_type": "code",
   "execution_count": 4,
   "id": "6d9a7936-d4c0-4712-be56-064725f82607",
   "metadata": {},
   "outputs": [
    {
     "data": {
      "image/png": "[encoded data removed]",
      "text/plain": [
       "<Figure size 385.732x284.278 with 1 Axes>"
      ]
     },
     "execution_count": 4,
     "metadata": {},
     "output_type": "execute_result"
    }
   ],
   "source": [
    "q1.draw('mpl')"
   ]
  },
  {
   "cell_type": "code",
   "execution_count": 5,
   "id": "847bcff8-f644-4c0a-a1e2-d241f3af45b4",
   "metadata": {},
   "outputs": [],
   "source": [
    "sz = []\n",
    "\n",
    "for i in range(50):\n",
    "    sz.append(p0[i]-p1[i])  "
   ]
  },
  {
   "cell_type": "markdown",
   "id": "8a0e2323-c3a0-408c-a567-24764e25ce4a",
   "metadata": {},
   "source": [
    "$\\textbf{sx}$"
   ]
  },
  {
   "cell_type": "code",
   "execution_count": 6,
   "id": "56d63619-7c5a-42a1-8bf6-b974ffd0cb2f",
   "metadata": {},
   "outputs": [],
   "source": [
    "# we can make plots for different values of theta and fixed values of phi:\n",
    "qasm_simulator = Aer.get_backend('qasm_simulator')\n",
    "#we define empty lists to use them later to store the statistics of measuring values 00, 01, 10, 11 for different values of theta and phi\n",
    "p0x = []\n",
    "p1x = []\n",
    "\n",
    "\n",
    "theta1 = np.pi/4\n",
    "q_c = QuantumRegister(1,'q_{c}')\n",
    "q_p = QuantumRegister(1,'q_{p}')\n",
    "cr = ClassicalRegister(2)\n",
    "\n",
    "for theta in s:\n",
    "    q1 = QuantumCircuit(q_c,q_p,cr)\n",
    "    q1.ry(2*theta1,q_c[0]) # symmetric beam-splitter\n",
    "    q1.cry(theta,q_c[0],q_p[0],ctrl_state = 0) # U operator for polarization\n",
    "    q1.h(q_p[0]) # rotation to x basis\n",
    "    #q1.measure(q_c[0],cr[0])\n",
    "    q1.measure(q_p[0],cr[1])\n",
    "    job = execute([q1 for i in range(20)],qasm_simulator,shots = 1000) #implement the simulation\n",
    "    counts = job.result().get_counts()\n",
    "\n",
    "    temp1 = [] #will store how many 00 values we have for each value of theta\n",
    "    temp2 = [] #will store how many 01 values we have for each value of theta\n",
    "\n",
    "    for i in range(20):\n",
    "        temp1.append(counts[i].get('00',0)/1000) #stores how many (relative population) 00 values we have (50 times) for each value of theta \n",
    "        temp2.append(counts[i].get('10',1)/1000) #stores how many (relative population) 01 values we have (50 times) for each value of theta\n",
    "        \n",
    "    p0x.append(sum(temp1)/20) # takes the prob of 00 to occur for all the values of theta\n",
    "    p1x.append(sum(temp2)/20) # takes the prob of 01 to occur for all the values of theta\n"
   ]
  },
  {
   "cell_type": "code",
   "execution_count": 7,
   "id": "9bb101d0-5b8f-4049-8575-3a37b8a860f2",
   "metadata": {},
   "outputs": [
    {
     "data": {
      "image/png": "[encoded data removed]",
      "text/plain": [
       "<Figure size 469.343x284.278 with 1 Axes>"
      ]
     },
     "execution_count": 7,
     "metadata": {},
     "output_type": "execute_result"
    }
   ],
   "source": [
    "q1.draw('mpl')"
   ]
  },
  {
   "cell_type": "code",
   "execution_count": 8,
   "id": "7e2bdb74-471d-46a8-95d7-be6d46cd1dae",
   "metadata": {},
   "outputs": [],
   "source": [
    "sx = []\n",
    "\n",
    "for i in range(50):\n",
    "    sx.append(p0x[i]-p1x[i])  "
   ]
  },
  {
   "cell_type": "markdown",
   "id": "8015b390-1fda-4c5d-b5fc-e95905c462e6",
   "metadata": {},
   "source": [
    "$\\textbf{sy}$"
   ]
  },
  {
   "cell_type": "code",
   "execution_count": 9,
   "id": "cbced58c-2be1-4ed1-9d1b-989dc8b56839",
   "metadata": {},
   "outputs": [],
   "source": [
    "# we can make plots for different values of theta and fixed values of phi:\n",
    "qasm_simulator = Aer.get_backend('qasm_simulator')\n",
    "#we define empty lists to use them later to store the statistics of measuring values 00, 01, 10, 11 for different values of theta and phi\n",
    "p0y = []\n",
    "p1y = []\n",
    "\n",
    "\n",
    "theta1 = np.pi/4\n",
    "q_c = QuantumRegister(1,'q_{c}')\n",
    "q_p = QuantumRegister(1,'q_{p}')\n",
    "cr = ClassicalRegister(2)\n",
    "\n",
    "for theta in s:\n",
    "    q1 = QuantumCircuit(q_c,q_p,cr)\n",
    "    q1.ry(2*theta1,q_c[0]) # symmetric beam-splitter\n",
    "    q1.cry(theta,q_c[0],q_p[0],ctrl_state = 0) # U operator for polarization\n",
    "    q1.sdg(q_p[0]) #phase gate\n",
    "    q1.h(q_p[0]) # rotation to y basis\n",
    "    #q1.measure(q_c[0],cr[0])\n",
    "    q1.measure(q_p[0],cr[1])\n",
    "    job = execute([q1 for i in range(20)],qasm_simulator,shots = 1000) #implement the simulation\n",
    "    counts = job.result().get_counts()\n",
    "\n",
    "    temp1 = [] #will store how many 00 values we have for each value of theta\n",
    "    temp2 = [] #will store how many 01 values we have for each value of theta\n",
    "\n",
    "    for i in range(20):\n",
    "        temp1.append(counts[i].get('00',0)/1000) #stores how many (relative population) 00 values we have (50 times) for each value of theta \n",
    "        temp2.append(counts[i].get('10',1)/1000) #stores how many (relative population) 01 values we have (50 times) for each value of theta\n",
    "        \n",
    "    p0y.append(sum(temp1)/20) # takes the prob of 00 to occur for all the values of theta\n",
    "    p1y.append(sum(temp2)/20) # takes the prob of 01 to occur for all the values of theta\n"
   ]
  },
  {
   "cell_type": "code",
   "execution_count": 10,
   "id": "777a4a68-c8a9-49ff-9a87-fb907aed8161",
   "metadata": {},
   "outputs": [
    {
     "data": {
      "image/png": "[encoded data removed]",
      "text/plain": [
       "<Figure size 552.955x284.278 with 1 Axes>"
      ]
     },
     "execution_count": 10,
     "metadata": {},
     "output_type": "execute_result"
    }
   ],
   "source": [
    "q1.draw('mpl')"
   ]
  },
  {
   "cell_type": "code",
   "execution_count": 11,
   "id": "8fbb2123-8a80-4023-86fc-72b18bf39840",
   "metadata": {},
   "outputs": [],
   "source": [
    "sy = []\n",
    "\n",
    "for i in range(50):\n",
    "    sy.append(p0y[i]-p1y[i])  "
   ]
  },
  {
   "cell_type": "code",
   "execution_count": 12,
   "id": "2edebd90-7274-4282-a963-056528650288",
   "metadata": {},
   "outputs": [],
   "source": [
    "x = np.array([[0,1],\n",
    "     [1,0]])\n",
    "y = np.array([[0,-complex(0,1)],\n",
    "     [complex(0,1),0]])\n",
    "z = np.array([[1,0],\n",
    "     [0,-1]])\n",
    "I = np.array([[1,0],\n",
    "    [0,1]])"
   ]
  },
  {
   "cell_type": "code",
   "execution_count": 13,
   "id": "31a74da8-cb32-4401-9c20-c12b1f12e7ec",
   "metadata": {},
   "outputs": [],
   "source": [
    "rho_p = []\n",
    "\n",
    "for i in range(50):\n",
    "    s1 = np.add(I,sx[i]*x)\n",
    "    s2 = np.add(sy[i]*y,sz[i]*z)\n",
    "    s3 = np.add(s1,s2)\n",
    "    rho_p.append(0.5*s3)"
   ]
  },
  {
   "cell_type": "markdown",
   "id": "ae12842b-fc87-4ad6-9e12-0e4aced38341",
   "metadata": {},
   "source": [
    "For $U_- = I$"
   ]
  },
  {
   "cell_type": "markdown",
   "id": "0a03143e-e5e5-466d-9988-2c8cf6105ffc",
   "metadata": {},
   "source": [
    "$\\textbf{sz}$"
   ]
  },
  {
   "cell_type": "code",
   "execution_count": 14,
   "id": "a26f5109-cd79-4457-9231-7318f465e45e",
   "metadata": {},
   "outputs": [],
   "source": [
    "# we can make plots for different values of theta and fixed values of phi:\n",
    "qasm_simulator = Aer.get_backend('qasm_simulator')\n",
    "#we define empty lists to use them later to store the statistics of measuring values 00, 01, 10, 11 for different values of theta and phi\n",
    "p0 = []\n",
    "p1 = []\n",
    "\n",
    "\n",
    "theta1 = np.pi/4\n",
    "q_c = QuantumRegister(1,'q_{c}')\n",
    "q_p = QuantumRegister(1,'q_{p}')\n",
    "cr = ClassicalRegister(2)\n",
    "\n",
    "for theta in s:\n",
    "    q1 = QuantumCircuit(q_c,q_p,cr)\n",
    "    q1.ry(2*theta1,q_c[0]) # symmetric beam-splitter\n",
    "    #q1.cry(theta,q_c[0],q_p[0],ctrl_state = 0) # U operator for polarization\n",
    "    #q1.measure(q_c[0],cr[0])\n",
    "    q1.measure(q_p[0],cr[1])\n",
    "    job = execute([q1 for i in range(20)],qasm_simulator,shots = 1000) #implement the simulation\n",
    "    counts = job.result().get_counts()\n",
    "\n",
    "    temp1 = [] #will store how many 00 values we have for each value of theta\n",
    "    temp2 = [] #will store how many 01 values we have for each value of theta\n",
    "    temp3 = [] #will store how many 10 values we have for each value of theta\n",
    "    temp4 = [] #will store how many 11 values we have for each value of theta\n",
    "\n",
    "    for i in range(20):\n",
    "        temp1.append(counts[i].get('00',0)/1000) #stores how many (relative population) 00 values we have (50 times) for each value of theta \n",
    "        temp2.append(counts[i].get('10',1)/1000) #stores how many (relative population) 01 values we have (50 times) for each value of theta\n",
    "        \n",
    "    p0.append(sum(temp1)/20) # takes the prob of 00 to occur for all the values of theta\n",
    "    p1.append(sum(temp2)/20) # takes the prob of 01 to occur for all the values of theta\n",
    "    #sx.append(sum(temp1)/50-sum(temp2)/50)"
   ]
  },
  {
   "cell_type": "code",
   "execution_count": 15,
   "id": "0480d38e-95c3-4401-96c6-e0f12a875cee",
   "metadata": {},
   "outputs": [
    {
     "data": {
      "image/png": "[encoded data removed]",
      "text/plain": [
       "<Figure size 218.51x284.278 with 1 Axes>"
      ]
     },
     "execution_count": 15,
     "metadata": {},
     "output_type": "execute_result"
    }
   ],
   "source": [
    "q1.draw('mpl')"
   ]
  },
  {
   "cell_type": "code",
   "execution_count": 16,
   "id": "bae9df41-904e-4a64-87ab-c73a1c52a898",
   "metadata": {},
   "outputs": [],
   "source": [
    "sz = []\n",
    "\n",
    "for i in range(50):\n",
    "    sz.append(p0[i]-p1[i])  "
   ]
  },
  {
   "cell_type": "markdown",
   "id": "b79516b4-23ac-4af3-8029-27e410ca097d",
   "metadata": {},
   "source": [
    "$\\textbf{sx}$"
   ]
  },
  {
   "cell_type": "code",
   "execution_count": 17,
   "id": "777b0fcf-2061-4e34-8906-c6838256ae49",
   "metadata": {},
   "outputs": [],
   "source": [
    "# we can make plots for different values of theta and fixed values of phi:\n",
    "qasm_simulator = Aer.get_backend('qasm_simulator')\n",
    "#we define empty lists to use them later to store the statistics of measuring values 00, 01, 10, 11 for different values of theta and phi\n",
    "p0x = []\n",
    "p1x = []\n",
    "\n",
    "\n",
    "theta1 = np.pi/4\n",
    "q_c = QuantumRegister(1,'q_{c}')\n",
    "q_p = QuantumRegister(1,'q_{p}')\n",
    "cr = ClassicalRegister(2)\n",
    "\n",
    "for theta in s:\n",
    "    q1 = QuantumCircuit(q_c,q_p,cr)\n",
    "    q1.ry(2*theta1,q_c[0]) # symmetric beam-splitter\n",
    "    #q1.cry(theta,q_c[0],q_p[0],ctrl_state = 0) # U operator for polarization\n",
    "    q1.h(q_p[0]) # rotation to x basis\n",
    "    #q1.measure(q_c[0],cr[0])\n",
    "    q1.measure(q_p[0],cr[1])\n",
    "    job = execute([q1 for i in range(20)],qasm_simulator,shots = 1000) #implement the simulation\n",
    "    counts = job.result().get_counts()\n",
    "\n",
    "    temp1 = [] #will store how many 00 values we have for each value of theta\n",
    "    temp2 = [] #will store how many 01 values we have for each value of theta\n",
    "\n",
    "    for i in range(20):\n",
    "        temp1.append(counts[i].get('00',0)/1000) #stores how many (relative population) 00 values we have (50 times) for each value of theta \n",
    "        temp2.append(counts[i].get('10',1)/1000) #stores how many (relative population) 01 values we have (50 times) for each value of theta\n",
    "        \n",
    "    p0x.append(sum(temp1)/20) # takes the prob of 00 to occur for all the values of theta\n",
    "    p1x.append(sum(temp2)/20) # takes the prob of 01 to occur for all the values of theta\n"
   ]
  },
  {
   "cell_type": "code",
   "execution_count": 18,
   "id": "2a4980ab-30c6-47a1-8f79-2a99317fc2b1",
   "metadata": {},
   "outputs": [
    {
     "data": {
      "image/png": "[encoded data removed]",
      "text/plain": [
       "<Figure size 302.121x284.278 with 1 Axes>"
      ]
     },
     "execution_count": 18,
     "metadata": {},
     "output_type": "execute_result"
    }
   ],
   "source": [
    "q1.draw('mpl')"
   ]
  },
  {
   "cell_type": "code",
   "execution_count": 19,
   "id": "8eb3cdd5-0ce5-4fd0-a6f2-7447d618753b",
   "metadata": {},
   "outputs": [],
   "source": [
    "sx = []\n",
    "\n",
    "for i in range(50):\n",
    "    sx.append(p0x[i]-p1x[i])  "
   ]
  },
  {
   "cell_type": "markdown",
   "id": "73cb9489-6466-4097-8354-870a4fbd635b",
   "metadata": {},
   "source": [
    "$\\textbf{sy}$"
   ]
  },
  {
   "cell_type": "code",
   "execution_count": 20,
   "id": "eb1f1602-4803-47d2-938f-649b41ba99ae",
   "metadata": {},
   "outputs": [],
   "source": [
    "# we can make plots for different values of theta and fixed values of phi:\n",
    "qasm_simulator = Aer.get_backend('qasm_simulator')\n",
    "#we define empty lists to use them later to store the statistics of measuring values 00, 01, 10, 11 for different values of theta and phi\n",
    "p0y = []\n",
    "p1y = []\n",
    "\n",
    "\n",
    "theta1 = np.pi/4\n",
    "q_c = QuantumRegister(1,'q_{c}')\n",
    "q_p = QuantumRegister(1,'q_{p}')\n",
    "cr = ClassicalRegister(2)\n",
    "\n",
    "for theta in s:\n",
    "    q1 = QuantumCircuit(q_c,q_p,cr)\n",
    "    q1.ry(2*theta1,q_c[0]) # symmetric beam-splitter\n",
    "    #q1.cry(theta,q_c[0],q_p[0],ctrl_state = 0) # U operator for polarization\n",
    "    q1.sdg(q_p[0]) #phase gate\n",
    "    q1.h(q_p[0]) # rotation to y basis\n",
    "    #q1.measure(q_c[0],cr[0])\n",
    "    q1.measure(q_p[0],cr[1])\n",
    "    job = execute([q1 for i in range(20)],qasm_simulator,shots = 1000) #implement the simulation\n",
    "    counts = job.result().get_counts()\n",
    "\n",
    "    temp1 = [] #will store how many 00 values we have for each value of theta\n",
    "    temp2 = [] #will store how many 01 values we have for each value of theta\n",
    "\n",
    "    for i in range(20):\n",
    "        temp1.append(counts[i].get('00',0)/1000) #stores how many (relative population) 00 values we have (50 times) for each value of theta \n",
    "        temp2.append(counts[i].get('10',1)/1000) #stores how many (relative population) 01 values we have (50 times) for each value of theta\n",
    "        \n",
    "    p0y.append(sum(temp1)/20) # takes the prob of 00 to occur for all the values of theta\n",
    "    p1y.append(sum(temp2)/20) # takes the prob of 01 to occur for all the values of theta\n"
   ]
  },
  {
   "cell_type": "code",
   "execution_count": 21,
   "id": "ab4c9ca8-a12c-44c3-8c91-963902b896bb",
   "metadata": {},
   "outputs": [
    {
     "data": {
      "image/png": "[encoded data removed]",
      "text/plain": [
       "<Figure size 385.732x284.278 with 1 Axes>"
      ]
     },
     "execution_count": 21,
     "metadata": {},
     "output_type": "execute_result"
    }
   ],
   "source": [
    "q1.draw('mpl')"
   ]
  },
  {
   "cell_type": "code",
   "execution_count": 22,
   "id": "d15c7e1a-0e02-4b13-b8d7-3abd76b0b72f",
   "metadata": {},
   "outputs": [],
   "source": [
    "sy = []\n",
    "\n",
    "for i in range(50):\n",
    "    sy.append(p0y[i]-p1y[i])  "
   ]
  },
  {
   "cell_type": "code",
   "execution_count": 23,
   "id": "67259a5a-a11d-409a-9425-bdbb641fc7f1",
   "metadata": {},
   "outputs": [],
   "source": [
    "rho_m = []\n",
    "\n",
    "for i in range(50):\n",
    "    s1 = np.add(I,sx[i]*x)\n",
    "    s2 = np.add(sy[i]*y,sz[i]*z)\n",
    "    s3 = np.add(s1,s2)\n",
    "    rho_m.append(0.5*s3)"
   ]
  },
  {
   "cell_type": "code",
   "execution_count": 27,
   "id": "b073ea78-ff0d-4759-a2e1-90dcbdd587ef",
   "metadata": {},
   "outputs": [],
   "source": [
    "d = []\n",
    "for i in range(50):\n",
    "    d.append(((np.abs(rho_p[i] - rho_m[i])).trace()))"
   ]
  },
  {
   "cell_type": "code",
   "execution_count": 28,
   "id": "a1378b52-c6ef-4c81-abcb-7f5b96d605c7",
   "metadata": {},
   "outputs": [
    {
     "data": {
      "text/plain": [
       "[0.0,\n",
       " 0.003750000000000031,\n",
       " 0.01789999999999997,\n",
       " 0.03600000000000003,\n",
       " 0.05690000000000012,\n",
       " 0.09400000000000003,\n",
       " 0.13710000000000022,\n",
       " 0.17969999999999997,\n",
       " 0.22790000000000016,\n",
       " 0.2774000000000001,\n",
       " 0.35050000000000014,\n",
       " 0.41019999999999984,\n",
       " 0.4678,\n",
       " 0.5282,\n",
       " 0.5946,\n",
       " 0.6476000000000002,\n",
       " 0.7157000000000002,\n",
       " 0.7675000000000001,\n",
       " 0.8264,\n",
       " 0.8574000000000002,\n",
       " 0.9209,\n",
       " 0.9531999999999998,\n",
       " 0.9783000000000002,\n",
       " 0.9935999999999998,\n",
       " 0.9905000000000004,\n",
       " 0.9950000000000001,\n",
       " 0.9972000000000003,\n",
       " 1.0038,\n",
       " 0.9753999999999999,\n",
       " 0.9501,\n",
       " 0.9028,\n",
       " 0.8684000000000001,\n",
       " 0.8192000000000002,\n",
       " 0.7627000000000002,\n",
       " 0.7088000000000001,\n",
       " 0.6515,\n",
       " 0.5974000000000004,\n",
       " 0.5295000000000001,\n",
       " 0.46400000000000013,\n",
       " 0.39979999999999993,\n",
       " 0.3391000000000001,\n",
       " 0.2896,\n",
       " 0.2345000000000001,\n",
       " 0.1856,\n",
       " 0.1341000000000001,\n",
       " 0.0965000000000002,\n",
       " 0.0651000000000001,\n",
       " 0.03720000000000023,\n",
       " 0.012600000000000278,\n",
       " 0.0028499999999999637]"
      ]
     },
     "execution_count": 28,
     "metadata": {},
     "output_type": "execute_result"
    }
   ],
   "source": [
    "d"
   ]
  },
  {
   "cell_type": "code",
   "execution_count": 29,
   "id": "c5afbe72-cf3b-4ae8-a49f-12a35ab81f9c",
   "metadata": {},
   "outputs": [
    {
     "data": {
      "image/png": "[encoded data removed]",
      "text/plain": [
       "<Figure size 640x480 with 1 Axes>"
      ]
     },
     "metadata": {},
     "output_type": "display_data"
    },
    {
     "data": {
      "text/plain": [
       "<Figure size 640x480 with 0 Axes>"
      ]
     },
     "metadata": {},
     "output_type": "display_data"
    }
   ],
   "source": [
    "# We can also visualize all the probabilities for all possible values of phi by plotting the probs p0 and p1\n",
    "fig, ax = plt.subplots()\n",
    "\n",
    "errorbar(s,d,fmt='b.',capsize=5,label=r\"$D$\",markersize=12)\n",
    "\n",
    "ax.set_title('Two degrees of freedom - Pure state ', size=14)\n",
    "#xlabel(r\"$\\phi$\",fontsize=20);\n",
    "#ylabel(r\"$P$\",fontsize=20);\n",
    "xticks(fontsize=10); #s,rotation='horizontal',\n",
    "yticks(fontsize=10);\n",
    "legend(fontsize=10);\n",
    "plt.xlabel(\"$\\Theta$\",size=14)\n",
    "plt.ylabel(\"Value\",size=14)\n",
    "ax.set_xlim(-0.05, 6)\n",
    "ax.set_ylim(-0.05, 1.1)\n",
    "grid(\"on\")\n",
    "plt.legend()\n",
    "\n",
    "fig1 = plt.gcf()\n",
    "plt.show()\n",
    "plt.draw()"
   ]
  },
  {
   "cell_type": "code",
   "execution_count": 56,
   "id": "f6e7d902-35a1-41f6-8675-8ee2580fd17c",
   "metadata": {},
   "outputs": [
    {
     "data": {
      "text/plain": [
       "array([[ 9.995e-01+0.j    , -2.500e-03+0.0032j],\n",
       "       [-2.500e-03-0.0032j,  5.000e-04+0.j    ]])"
      ]
     },
     "execution_count": 56,
     "metadata": {},
     "output_type": "execute_result"
    }
   ],
   "source": [
    "rho_m[20]"
   ]
  },
  {
   "cell_type": "code",
   "execution_count": 40,
   "id": "42b349ed-bfe1-4c09-9288-89a4bd675e2e",
   "metadata": {},
   "outputs": [],
   "source": [
    "rho_md = []\n",
    "for i in range(50):\n",
    "    eigenvalues, eigenvectors = np.linalg.eig(rho_m[i])\n",
    "    p_inv = np.linalg.inv(eigenvectors)\n",
    "    rho_md.append(np.dot(p_inv,np.dot(rho_m[i],eigenvectors)))"
   ]
  },
  {
   "cell_type": "code",
   "execution_count": 43,
   "id": "f86dc2bb-aa5e-4018-940b-5c19f1a9712b",
   "metadata": {},
   "outputs": [
    {
     "data": {
      "text/plain": [
       "array([[ 9.99517340e-01+0.00000000e+00j,  4.81516926e-20-9.26018770e-19j],\n",
       "       [-2.09230197e-19-1.30104261e-18j,  4.82660461e-04-3.36662509e-22j]])"
      ]
     },
     "execution_count": 43,
     "metadata": {},
     "output_type": "execute_result"
    }
   ],
   "source": [
    "rho_md[25]"
   ]
  },
  {
   "cell_type": "code",
   "execution_count": 45,
   "id": "f871ce73-b762-422a-ad43-d39f418b2ab4",
   "metadata": {},
   "outputs": [],
   "source": [
    "rho_pd = []\n",
    "for i in range(50):\n",
    "    eigenvalues, eigenvectors = np.linalg.eig(rho_p[i])\n",
    "    p_inv = np.linalg.inv(eigenvectors)\n",
    "    rho_pd.append(np.dot(p_inv,np.dot(rho_p[i],eigenvectors)))"
   ]
  },
  {
   "cell_type": "code",
   "execution_count": 46,
   "id": "39fdeb52-6b46-48b3-96ef-e47dc22ec8f9",
   "metadata": {},
   "outputs": [
    {
     "data": {
      "text/plain": [
       "array([[ 5.03622499e-01+3.46944695e-18j, -2.70357639e-17-2.77555756e-17j],\n",
       "       [ 2.38193445e-17+0.00000000e+00j,  4.96377501e-01+0.00000000e+00j]])"
      ]
     },
     "execution_count": 46,
     "metadata": {},
     "output_type": "execute_result"
    }
   ],
   "source": [
    "rho_pd[25]"
   ]
  },
  {
   "cell_type": "code",
   "execution_count": 51,
   "id": "5b2856ea-43e0-4bab-b3be-81f67d812157",
   "metadata": {},
   "outputs": [],
   "source": [
    "di = []\n",
    "for i in range(50):\n",
    "    di.append(((np.abs(rho_pd[i] - rho_md[i])).trace()))"
   ]
  },
  {
   "cell_type": "code",
   "execution_count": 52,
   "id": "ec4cb42d-c7b4-447b-85bd-286ef16ceba4",
   "metadata": {},
   "outputs": [
    {
     "data": {
      "image/png": "[encoded data removed]",
      "text/plain": [
       "<Figure size 640x480 with 1 Axes>"
      ]
     },
     "metadata": {},
     "output_type": "display_data"
    },
    {
     "data": {
      "text/plain": [
       "<Figure size 640x480 with 0 Axes>"
      ]
     },
     "metadata": {},
     "output_type": "display_data"
    }
   ],
   "source": [
    "# We can also visualize all the probabilities for all possible values of phi by plotting the probs p0 and p1\n",
    "fig, ax = plt.subplots()\n",
    "\n",
    "errorbar(s,di,fmt='b.',capsize=5,label=r\"$D$\",markersize=12)\n",
    "\n",
    "ax.set_title('Two degrees of freedom - Pure state ', size=14)\n",
    "#xlabel(r\"$\\phi$\",fontsize=20);\n",
    "#ylabel(r\"$P$\",fontsize=20);\n",
    "xticks(fontsize=10); #s,rotation='horizontal',\n",
    "yticks(fontsize=10);\n",
    "legend(fontsize=10);\n",
    "plt.xlabel(\"$\\Theta$\",size=14)\n",
    "plt.ylabel(\"Value\",size=14)\n",
    "ax.set_xlim(-0.05, 6)\n",
    "ax.set_ylim(-0.05, 1.1)\n",
    "grid(\"on\")\n",
    "plt.legend()\n",
    "\n",
    "fig1 = plt.gcf()\n",
    "plt.show()\n",
    "plt.draw()"
   ]
  },
  {
   "cell_type": "code",
   "execution_count": null,
   "id": "3f64339a-549c-479c-ba9f-9e87d383768e",
   "metadata": {},
   "outputs": [],
   "source": []
  }
 ],
 "metadata": {
  "kernelspec": {
   "display_name": "Python 3 (ipykernel)",
   "language": "python",
   "name": "python3"
  },
  "language_info": {
   "codemirror_mode": {
    "name": "ipython",
    "version": 3
   },
   "file_extension": ".py",
   "mimetype": "text/x-python",
   "name": "python",
   "nbconvert_exporter": "python",
   "pygments_lexer": "ipython3",
   "version": "3.11.4"
  }
 },
 "nbformat": 4,
 "nbformat_minor": 5
}
